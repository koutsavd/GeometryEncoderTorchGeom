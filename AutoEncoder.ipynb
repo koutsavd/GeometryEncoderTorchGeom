{
 "cells": [
  {
   "cell_type": "code",
   "id": "e70bfe46e244d508",
   "metadata": {
    "ExecuteTime": {
     "end_time": "2025-05-21T21:50:54.163975Z",
     "start_time": "2025-05-21T21:50:54.160527Z"
    }
   },
   "source": [
    "import os\n",
    "import numpy as np\n",
    "import torch\n",
    "from torch.nn import Linear, MSELoss, BCELoss, ReLU, Dropout, Sequential\n",
    "from torch_geometric.data import Data, Dataset\n",
    "from torch_geometric.loader import DataLoader\n",
    "from torch_geometric.nn import GCNConv, global_mean_pool\n",
    "from sklearn.model_selection import train_test_split\n",
    "from scipy import sparse\n",
    "from pathlib import Path\n",
    "from torch.utils.tensorboard import SummaryWriter\n",
    "from sklearn.decomposition import PCA\n",
    "from mpl_toolkits.mplot3d import Axes3D  # noqa: F401 (needed for 3D plotting)\n",
    "import random"
   ],
   "outputs": [],
   "execution_count": 24
  },
  {
   "metadata": {
    "ExecuteTime": {
     "end_time": "2025-05-21T21:50:54.565695Z",
     "start_time": "2025-05-21T21:50:54.563259Z"
    }
   },
   "cell_type": "code",
   "source": [
    "import matplotlib.pyplot as plt\n",
    "from IPython.display import clear_output\n",
    "%matplotlib notebook"
   ],
   "id": "a8ec24aa62470869",
   "outputs": [],
   "execution_count": 25
  },
  {
   "metadata": {
    "ExecuteTime": {
     "end_time": "2025-05-21T21:50:55.090730Z",
     "start_time": "2025-05-21T21:50:55.085910Z"
    }
   },
   "cell_type": "code",
   "source": [
    "\n",
    "\n",
    "# === Dataset Loader ===\n",
    "class CarGraphDataset(Dataset):\n",
    "    def __init__(self, root_dir, indices=None):\n",
    "        self.root_dir = Path(root_dir)\n",
    "        all_files = sorted([f for f in self.root_dir.rglob(\"*.npz\") if \"_adj\" not in f.name])\n",
    "        self.files = [all_files[i] for i in indices] if indices else all_files\n",
    "        super().__init__()\n",
    "\n",
    "    def len(self):\n",
    "        return len(self.files)\n",
    "\n",
    "    def get(self, idx):\n",
    "        feat_file = self.files[idx]\n",
    "        adj_file = feat_file.with_name(feat_file.name.replace(\".npz\", \"_adj.npz\"))\n",
    "        npz_data = np.load(feat_file)\n",
    "\n",
    "        x = torch.tensor(npz_data[\"x\"], dtype=torch.float32)\n",
    "        e = torch.tensor(npz_data[\"e\"], dtype=torch.float32)\n",
    "\n",
    "        a = sparse.load_npz(adj_file).tocoo()\n",
    "        edge_index = torch.tensor(np.vstack((a.row, a.col)), dtype=torch.long)\n",
    "\n",
    "        return Data(x=x, edge_index=edge_index, edge_attr=e)\n"
   ],
   "id": "d609e41ac5aa72a5",
   "outputs": [],
   "execution_count": 26
  },
  {
   "metadata": {
    "ExecuteTime": {
     "end_time": "2025-05-21T21:50:55.797905Z",
     "start_time": "2025-05-21T21:50:55.792107Z"
    }
   },
   "cell_type": "code",
   "source": [
    "\n",
    "# === Model ===\n",
    "class GraphAutoEncoder(torch.nn.Module):\n",
    "    def __init__(self, in_channels, hidden_channels, latent_dim):\n",
    "        super().__init__()\n",
    "        self.encoder = Sequential(\n",
    "            GCNConv(in_channels, hidden_channels), ReLU(),\n",
    "            GCNConv(hidden_channels, hidden_channels), ReLU(),\n",
    "            GCNConv(hidden_channels, hidden_channels), ReLU()\n",
    "        )\n",
    "        self.encoder_lin = Sequential(\n",
    "            Linear(hidden_channels, latent_dim), ReLU(), Dropout(p=0.2))\n",
    "        self.decoder_lin = Sequential(\n",
    "            Linear(latent_dim, hidden_channels), ReLU(),\n",
    "            Linear(hidden_channels, in_channels)\n",
    "        )\n",
    "\n",
    "    def encode(self, x, edge_index, batch=None):\n",
    "        for layer in self.encoder:\n",
    "            if isinstance(layer, GCNConv):\n",
    "                x = layer(x, edge_index)\n",
    "            else:\n",
    "                x = layer(x)\n",
    "        z = self.encoder_lin(x)\n",
    "        if batch is None:\n",
    "            # If batch is not provided, assume all nodes belong to one graph\n",
    "            batch = torch.zeros(x.size(0), dtype=torch.long, device=x.device)\n",
    "        z_graph = global_mean_pool(z, batch)\n",
    "        return z, z_graph\n",
    "\n",
    "    def decode(self, z):\n",
    "        return self.decoder_lin(z)\n",
    "\n",
    "    def forward(self, x, edge_index, batch=None):\n",
    "        z, z_graph = self.encode(x, edge_index, batch)\n",
    "        x_hat = self.decode(z)\n",
    "        return z, x_hat, z_graph\n"
   ],
   "id": "21a98b620ed5da3e",
   "outputs": [],
   "execution_count": 27
  },
  {
   "metadata": {
    "ExecuteTime": {
     "end_time": "2025-05-21T21:50:56.599640Z",
     "start_time": "2025-05-21T21:50:56.594237Z"
    }
   },
   "cell_type": "code",
   "source": [
    "\n",
    "# === Training loop ===\n",
    "def run_epoch(model, loader, optimizer, device, train=True):\n",
    "    model.train() if train else model.eval()\n",
    "    total_loss = 0\n",
    "    for batch in loader:\n",
    "        batch = batch.to(device)\n",
    "        if train:\n",
    "            optimizer.zero_grad()\n",
    "\n",
    "        z, x_hat, z_graph = model(batch.x, batch.edge_index, batch=batch.batch)\n",
    "\n",
    "        edge_index = batch.edge_index\n",
    "        z_i = z[edge_index[0]]\n",
    "        z_j = z[edge_index[1]]\n",
    "        dot_products = (z_i * z_j).sum(dim=1)\n",
    "        adj_pred = torch.sigmoid(dot_products)\n",
    "        adj_true = torch.ones_like(adj_pred)\n",
    "\n",
    "        loss_x = MSELoss()(x_hat, batch.x)\n",
    "        loss_a = BCELoss()(adj_pred, adj_true)\n",
    "        loss = loss_x + loss_a\n",
    "\n",
    "        if train:\n",
    "            loss.backward()\n",
    "            optimizer.step()\n",
    "\n",
    "        total_loss += loss.item()\n",
    "    return total_loss / len(loader)\n"
   ],
   "id": "ff315818eb22c101",
   "outputs": [],
   "execution_count": 28
  },
  {
   "metadata": {
    "ExecuteTime": {
     "end_time": "2025-05-21T21:50:58.463190Z",
     "start_time": "2025-05-21T21:50:58.452004Z"
    }
   },
   "cell_type": "code",
   "source": [
    "\n",
    "# === Visualize original vs reconstructed geometry ===\n",
    "def plot_reconstruction(model, dataset, device, sample_idx=None):\n",
    "    model.eval()\n",
    "    idx = random.choice(range(len(dataset))) if sample_idx is None else sample_idx\n",
    "    data = dataset[idx].to(device)\n",
    "    with torch.no_grad():\n",
    "        z, x_hat, _ = model(data.x, data.edge_index,\n",
    "                            data.batch if hasattr(data, 'batch') else torch.zeros(data.x.size(0), dtype=torch.long,\n",
    "                                                                                  device=device))\n",
    "\n",
    "    x_orig = data.x.cpu().numpy()\n",
    "    x_recon = x_hat.cpu().numpy()\n",
    "\n",
    "    plt.figure(figsize=(12, 6))\n",
    "    for i in range(min(3, x_orig.shape[1])):\n",
    "        plt.subplot(1, 3, i + 1)\n",
    "        plt.plot(x_orig[:, i], label='Original', alpha=0.7)\n",
    "        plt.plot(x_recon[:, i], label='Reconstructed', linestyle='--', alpha=0.7)\n",
    "        plt.title(f'Feature {i}')\n",
    "        plt.legend()\n",
    "    plt.suptitle(f'Reconstruction for sample #{idx}')\n",
    "    plt.tight_layout()\n",
    "    plt.savefig(\"reconstruction_sample.png\")\n",
    "    plt.close()\n",
    "\n",
    "\n",
    "# === Visualize 2D latent space ===\n",
    "def plot_latent_space(model, dataset, device):\n",
    "    model.eval()\n",
    "    zs = []\n",
    "    colors = []\n",
    "\n",
    "    for i, data in enumerate(dataset):\n",
    "        data = data.to(device)\n",
    "        batch = torch.zeros(data.x.size(0), dtype=torch.long, device=device)  # if no batch attr\n",
    "        with torch.no_grad():\n",
    "            _, _, z_graph = model(data.x, data.edge_index, batch)\n",
    "        zs.append(z_graph.squeeze(0).cpu().numpy())\n",
    "        colors.append(i)\n",
    "\n",
    "    zs = np.array(zs)\n",
    "    pca = PCA(n_components=2)\n",
    "    zs_2d = pca.fit_transform(zs)\n",
    "\n",
    "    plt.figure(figsize=(8, 6))\n",
    "    scatter = plt.scatter(zs_2d[:, 0], zs_2d[:, 1], c=colors, cmap='viridis', s=40, edgecolor='k')\n",
    "    plt.colorbar(scatter, label=\"Graph index\")\n",
    "    plt.title(\"2D PCA of Graph-Level Latent Embeddings\")\n",
    "    plt.xlabel(\"PC1\")\n",
    "    plt.ylabel(\"PC2\")\n",
    "    plt.tight_layout()\n",
    "    plt.savefig(\"latent_projection.png\")\n",
    "    plt.close()\n",
    "\n",
    "\n",
    "\n",
    "def plot_geometry_comparison(x_orig_np, x_recon_np, sample_idx=None):\n",
    "    fig = plt.figure(figsize=(12, 6))\n",
    "\n",
    "    ax1 = fig.add_subplot(1, 2, 1, projection='3d')\n",
    "    ax1.scatter(x_orig_np[:, 0], x_orig_np[:, 1], x_orig_np[:, 2],\n",
    "                c='blue', s=3, label='Original')\n",
    "    ax1.set_title(\"Original Geometry\")\n",
    "    ax1.set_xlabel(\"X\")\n",
    "    ax1.set_ylabel(\"Y\")\n",
    "    ax1.set_zlabel(\"Z\")\n",
    "\n",
    "    ax2 = fig.add_subplot(1, 2, 2, projection='3d')\n",
    "    ax2.scatter(x_recon_np[:, 0], x_recon_np[:, 1], x_recon_np[:, 2],\n",
    "                c='red', s=3, label='Reconstructed')\n",
    "    ax2.set_title(\"Reconstructed Geometry\")\n",
    "    ax2.set_xlabel(\"X\")\n",
    "    ax2.set_ylabel(\"Y\")\n",
    "    ax2.set_zlabel(\"Z\")\n",
    "\n",
    "    fig.suptitle(f\"Sample #{sample_idx} - Original vs Reconstructed Geometry\")\n",
    "    plt.tight_layout()\n",
    "    plt.savefig(f\"geometry_comparison_{sample_idx}.png\")\n",
    "    plt.show()\n",
    "\n",
    "def plot_losses(train_losses, val_losses):\n",
    "    clear_output(wait=True)\n",
    "    fig, ax = plt.subplots(figsize=(10, 5))\n",
    "    ax.plot(train_losses, label=\"Train Loss\")\n",
    "    ax.plot(val_losses, label=\"Val Loss\")\n",
    "    ax.set_xlabel(\"Epoch\")\n",
    "    ax.set_ylabel(\"Loss\")\n",
    "    ax.set_title(\"Training and Validation Loss\")\n",
    "    ax.grid(True)\n",
    "    ax.legend()\n",
    "    display(fig)\n",
    "    plt.close(fig)\n"
   ],
   "id": "d81ff638b59db58c",
   "outputs": [],
   "execution_count": 29
  },
  {
   "metadata": {},
   "cell_type": "code",
   "source": [
    "\n",
    "#%matplotlib inline\n",
    "# === Main execution ===\n",
    "path = \"/Users/koutsavd/PycharmProjects/Geometry_GNN/Graphs\"\n",
    "all_indices = list(range(len(list(Path(path).rglob(\"*[!_adj].npz\")))))\n",
    "train_idx, valtest_idx = train_test_split(all_indices, test_size=0.3, random_state=42)\n",
    "val_idx, test_idx = train_test_split(valtest_idx, test_size=0.5, random_state=42)\n",
    "\n",
    "train_set = CarGraphDataset(path, indices=train_idx)\n",
    "val_set = CarGraphDataset(path, indices=val_idx)\n",
    "test_set = CarGraphDataset(path, indices=test_idx)\n",
    "\n",
    "train_loader = DataLoader(train_set, batch_size=8, shuffle=True)\n",
    "val_loader = DataLoader(val_set, batch_size=8)\n",
    "test_loader = DataLoader(test_set, batch_size=8)\n",
    "\n",
    "device = torch.device(\"cuda\" if torch.cuda.is_available() else \"cpu\")\n",
    "model = GraphAutoEncoder(in_channels=8, hidden_channels=64, latent_dim=256).to(device)\n",
    "optimizer = torch.optim.Adam(model.parameters(), lr=1e-3)\n",
    "\n",
    "writer = SummaryWriter(log_dir=\"runs/graph_ae\")\n",
    "best_val_loss = float(\"inf\")\n",
    "os.makedirs(\"checkpoints\", exist_ok=True)\n",
    "\n",
    "train_losses = []\n",
    "val_losses = []\n",
    "\n",
    "for epoch in range(1, 101):\n",
    "    train_loss = run_epoch(model, train_loader, optimizer, device, train=True)\n",
    "    val_loss = run_epoch(model, val_loader, optimizer, device, train=False)\n",
    "\n",
    "    train_losses.append(train_loss)\n",
    "    val_losses.append(val_loss)\n",
    "\n",
    "    writer.add_scalars(\"Loss\", {\"train\": train_loss, \"val\": val_loss}, epoch)\n",
    "    print(f\"Epoch {epoch:03d} | Train Loss: {train_loss:.4f} | Val Loss: {val_loss:.4f}\")\n",
    "    plot_losses(train_losses, val_losses)\n",
    "\n",
    "    if val_loss < best_val_loss:\n",
    "        best_val_loss = val_loss\n",
    "        torch.save(model.state_dict(), \"checkpoints/best_model.pt\")\n",
    "\n"
   ],
   "id": "e216fdfe90b6ea06",
   "execution_count": 30,
   "outputs": [
    {
     "data": {
      "text/plain": [
       "<IPython.core.display.HTML object>"
      ],
      "text/html": [
       "<div id='52a0e3e3-1fc5-42de-bce5-f7fd4323f903'></div>"
      ]
     },
     "metadata": {},
     "output_type": "display_data"
    },
    {
     "data": {
      "text/plain": [
       "<Figure size 1000x500 with 1 Axes>"
      ],
      "image/png": "[encoded data removed]"
     },
     "metadata": {},
     "output_type": "display_data"
    },
    {
     "ename": "KeyboardInterrupt",
     "evalue": "",
     "output_type": "error",
     "traceback": [
      "\u001B[31m---------------------------------------------------------------------------\u001B[39m",
      "\u001B[31mKeyboardInterrupt\u001B[39m                         Traceback (most recent call last)",
      "\u001B[36mCell\u001B[39m\u001B[36m \u001B[39m\u001B[32mIn[30]\u001B[39m\u001B[32m, line 28\u001B[39m\n\u001B[32m     25\u001B[39m val_losses = []\n\u001B[32m     27\u001B[39m \u001B[38;5;28;01mfor\u001B[39;00m epoch \u001B[38;5;129;01min\u001B[39;00m \u001B[38;5;28mrange\u001B[39m(\u001B[32m1\u001B[39m, \u001B[32m101\u001B[39m):\n\u001B[32m---> \u001B[39m\u001B[32m28\u001B[39m     train_loss = \u001B[43mrun_epoch\u001B[49m\u001B[43m(\u001B[49m\u001B[43mmodel\u001B[49m\u001B[43m,\u001B[49m\u001B[43m \u001B[49m\u001B[43mtrain_loader\u001B[49m\u001B[43m,\u001B[49m\u001B[43m \u001B[49m\u001B[43moptimizer\u001B[49m\u001B[43m,\u001B[49m\u001B[43m \u001B[49m\u001B[43mdevice\u001B[49m\u001B[43m,\u001B[49m\u001B[43m \u001B[49m\u001B[43mtrain\u001B[49m\u001B[43m=\u001B[49m\u001B[38;5;28;43;01mTrue\u001B[39;49;00m\u001B[43m)\u001B[49m\n\u001B[32m     29\u001B[39m     val_loss = run_epoch(model, val_loader, optimizer, device, train=\u001B[38;5;28;01mFalse\u001B[39;00m)\n\u001B[32m     31\u001B[39m     train_losses.append(train_loss)\n",
      "\u001B[36mCell\u001B[39m\u001B[36m \u001B[39m\u001B[32mIn[28]\u001B[39m\u001B[32m, line 24\u001B[39m, in \u001B[36mrun_epoch\u001B[39m\u001B[34m(model, loader, optimizer, device, train)\u001B[39m\n\u001B[32m     21\u001B[39m loss = loss_x + loss_a\n\u001B[32m     23\u001B[39m \u001B[38;5;28;01mif\u001B[39;00m train:\n\u001B[32m---> \u001B[39m\u001B[32m24\u001B[39m     \u001B[43mloss\u001B[49m\u001B[43m.\u001B[49m\u001B[43mbackward\u001B[49m\u001B[43m(\u001B[49m\u001B[43m)\u001B[49m\n\u001B[32m     25\u001B[39m     optimizer.step()\n\u001B[32m     27\u001B[39m total_loss += loss.item()\n",
      "\u001B[36mFile \u001B[39m\u001B[32m~/PycharmProjects/Geometry_GNN/venv/lib/python3.11/site-packages/torch/_tensor.py:648\u001B[39m, in \u001B[36mTensor.backward\u001B[39m\u001B[34m(self, gradient, retain_graph, create_graph, inputs)\u001B[39m\n\u001B[32m    638\u001B[39m \u001B[38;5;28;01mif\u001B[39;00m has_torch_function_unary(\u001B[38;5;28mself\u001B[39m):\n\u001B[32m    639\u001B[39m     \u001B[38;5;28;01mreturn\u001B[39;00m handle_torch_function(\n\u001B[32m    640\u001B[39m         Tensor.backward,\n\u001B[32m    641\u001B[39m         (\u001B[38;5;28mself\u001B[39m,),\n\u001B[32m   (...)\u001B[39m\u001B[32m    646\u001B[39m         inputs=inputs,\n\u001B[32m    647\u001B[39m     )\n\u001B[32m--> \u001B[39m\u001B[32m648\u001B[39m \u001B[43mtorch\u001B[49m\u001B[43m.\u001B[49m\u001B[43mautograd\u001B[49m\u001B[43m.\u001B[49m\u001B[43mbackward\u001B[49m\u001B[43m(\u001B[49m\n\u001B[32m    649\u001B[39m \u001B[43m    \u001B[49m\u001B[38;5;28;43mself\u001B[39;49m\u001B[43m,\u001B[49m\u001B[43m \u001B[49m\u001B[43mgradient\u001B[49m\u001B[43m,\u001B[49m\u001B[43m \u001B[49m\u001B[43mretain_graph\u001B[49m\u001B[43m,\u001B[49m\u001B[43m \u001B[49m\u001B[43mcreate_graph\u001B[49m\u001B[43m,\u001B[49m\u001B[43m \u001B[49m\u001B[43minputs\u001B[49m\u001B[43m=\u001B[49m\u001B[43minputs\u001B[49m\n\u001B[32m    650\u001B[39m \u001B[43m\u001B[49m\u001B[43m)\u001B[49m\n",
      "\u001B[36mFile \u001B[39m\u001B[32m~/PycharmProjects/Geometry_GNN/venv/lib/python3.11/site-packages/torch/autograd/__init__.py:353\u001B[39m, in \u001B[36mbackward\u001B[39m\u001B[34m(tensors, grad_tensors, retain_graph, create_graph, grad_variables, inputs)\u001B[39m\n\u001B[32m    348\u001B[39m     retain_graph = create_graph\n\u001B[32m    350\u001B[39m \u001B[38;5;66;03m# The reason we repeat the same comment below is that\u001B[39;00m\n\u001B[32m    351\u001B[39m \u001B[38;5;66;03m# some Python versions print out the first line of a multi-line function\u001B[39;00m\n\u001B[32m    352\u001B[39m \u001B[38;5;66;03m# calls in the traceback and some print out the last line\u001B[39;00m\n\u001B[32m--> \u001B[39m\u001B[32m353\u001B[39m \u001B[43m_engine_run_backward\u001B[49m\u001B[43m(\u001B[49m\n\u001B[32m    354\u001B[39m \u001B[43m    \u001B[49m\u001B[43mtensors\u001B[49m\u001B[43m,\u001B[49m\n\u001B[32m    355\u001B[39m \u001B[43m    \u001B[49m\u001B[43mgrad_tensors_\u001B[49m\u001B[43m,\u001B[49m\n\u001B[32m    356\u001B[39m \u001B[43m    \u001B[49m\u001B[43mretain_graph\u001B[49m\u001B[43m,\u001B[49m\n\u001B[32m    357\u001B[39m \u001B[43m    \u001B[49m\u001B[43mcreate_graph\u001B[49m\u001B[43m,\u001B[49m\n\u001B[32m    358\u001B[39m \u001B[43m    \u001B[49m\u001B[43minputs\u001B[49m\u001B[43m,\u001B[49m\n\u001B[32m    359\u001B[39m \u001B[43m    \u001B[49m\u001B[43mallow_unreachable\u001B[49m\u001B[43m=\u001B[49m\u001B[38;5;28;43;01mTrue\u001B[39;49;00m\u001B[43m,\u001B[49m\n\u001B[32m    360\u001B[39m \u001B[43m    \u001B[49m\u001B[43maccumulate_grad\u001B[49m\u001B[43m=\u001B[49m\u001B[38;5;28;43;01mTrue\u001B[39;49;00m\u001B[43m,\u001B[49m\n\u001B[32m    361\u001B[39m \u001B[43m\u001B[49m\u001B[43m)\u001B[49m\n",
      "\u001B[36mFile \u001B[39m\u001B[32m~/PycharmProjects/Geometry_GNN/venv/lib/python3.11/site-packages/torch/autograd/graph.py:824\u001B[39m, in \u001B[36m_engine_run_backward\u001B[39m\u001B[34m(t_outputs, *args, **kwargs)\u001B[39m\n\u001B[32m    822\u001B[39m     unregister_hooks = _register_logging_hooks_on_whole_graph(t_outputs)\n\u001B[32m    823\u001B[39m \u001B[38;5;28;01mtry\u001B[39;00m:\n\u001B[32m--> \u001B[39m\u001B[32m824\u001B[39m     \u001B[38;5;28;01mreturn\u001B[39;00m \u001B[43mVariable\u001B[49m\u001B[43m.\u001B[49m\u001B[43m_execution_engine\u001B[49m\u001B[43m.\u001B[49m\u001B[43mrun_backward\u001B[49m\u001B[43m(\u001B[49m\u001B[43m  \u001B[49m\u001B[38;5;66;43;03m# Calls into the C++ engine to run the backward pass\u001B[39;49;00m\n\u001B[32m    825\u001B[39m \u001B[43m        \u001B[49m\u001B[43mt_outputs\u001B[49m\u001B[43m,\u001B[49m\u001B[43m \u001B[49m\u001B[43m*\u001B[49m\u001B[43margs\u001B[49m\u001B[43m,\u001B[49m\u001B[43m \u001B[49m\u001B[43m*\u001B[49m\u001B[43m*\u001B[49m\u001B[43mkwargs\u001B[49m\n\u001B[32m    826\u001B[39m \u001B[43m    \u001B[49m\u001B[43m)\u001B[49m  \u001B[38;5;66;03m# Calls into the C++ engine to run the backward pass\u001B[39;00m\n\u001B[32m    827\u001B[39m \u001B[38;5;28;01mfinally\u001B[39;00m:\n\u001B[32m    828\u001B[39m     \u001B[38;5;28;01mif\u001B[39;00m attach_logging_hooks:\n",
      "\u001B[31mKeyboardInterrupt\u001B[39m: "
     ]
    }
   ]
  },
  {
   "metadata": {
    "collapsed": true
   },
   "cell_type": "code",
   "outputs": [],
   "execution_count": null,
   "source": [
    "\n",
    "    # === Test ===\n",
    "    model.load_state_dict(torch.load(\"checkpoints/best_model.pt\"))\n",
    "    test_loss = run_epoch(model, test_loader, optimizer, device, train=False)\n",
    "    print(f\"Final Test Loss: {test_loss:.4f}\")\n",
    "\n",
    "    # === Visualizations ===\n",
    "    plot_latent_space(model, test_set, device)\n",
    "    plot_reconstruction(model, test_set, device)\n",
    "    # === Visualize full geometry ===\n",
    "    sample_idx = 5  # Or None for random\n",
    "    data = test_set[sample_idx].to(device)\n",
    "    model.eval()\n",
    "    with torch.no_grad():\n",
    "        _, x_hat, _ = model(data.x, data.edge_index)\n",
    "\n",
    "    x_orig_np = data.x[:, :3].cpu().numpy()\n",
    "    x_recon_np = x_hat[:, :3].cpu().numpy()\n",
    "\n",
    "    plot_geometry_comparison(x_orig_np, x_recon_np, sample_idx)\n"
   ],
   "id": "initial_id"
  }
 ],
 "metadata": {
  "kernelspec": {
   "display_name": "Python 3",
   "language": "python",
   "name": "python3"
  },
  "language_info": {
   "codemirror_mode": {
    "name": "ipython",
    "version": 2
   },
   "file_extension": ".py",
   "mimetype": "text/x-python",
   "name": "python",
   "nbconvert_exporter": "python",
   "pygments_lexer": "ipython2",
   "version": "2.7.6"
  }
 },
 "nbformat": 4,
 "nbformat_minor": 5
}
